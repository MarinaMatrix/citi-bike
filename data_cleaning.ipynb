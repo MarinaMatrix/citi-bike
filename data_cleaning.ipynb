{
 "cells": [
  {
   "cell_type": "code",
   "execution_count": null,
   "metadata": {},
   "outputs": [],
   "source": [
    "import pandas as pd\n",
    "import glob\n",
    "import datetime\n",
    "\n",
    "bike_csv_files = glob.glob('*citibike-tripdata.csv')\n",
    "bike_dfs = []\n",
    "for file in bike_csv_files:\n",
    "    df = pd.read_csv(file)\n",
    "    bike_dfs.append(df)\n",
    "\n",
    "combined_bike_df = pd.concat(bike_dfs, ignore_index=True)\n",
    "\n",
    "print(combined_bike_df.head())\n",
    "\n",
    "combined_bike_df.info()\n",
    "\n",
    "combined_bike_df.isna().sum()\n",
    "\n",
    "#combined csv files with same columns and get some basic info for analysis on the data\n"
   ]
  },
  {
   "cell_type": "code",
   "execution_count": null,
   "metadata": {},
   "outputs": [],
   "source": [
    "combined_bike_df.columns = [x.replace(' ', '_').lower() for x in combined_bike_df.columns]\n",
    "\n",
    "combined_bike_df['start_time'] = pd.to_datetime(combined_bike_df['start_time'])\n",
    "\n",
    "combined_bike_df['stop_time'] = pd.to_datetime(combined_bike_df['stop_time'])\n",
    "\n",
    "combined_bike_df['birth_year'] = combined_bike_df['birth_year'].astype(\"Int64\")\n",
    "\n",
    "\n",
    "#change data types where necessary to datetime "
   ]
  },
  {
   "cell_type": "code",
   "execution_count": null,
   "metadata": {},
   "outputs": [],
   "source": [
    "airport_csv = pd.read_csv('newark_airport_2016.csv')\n",
    "print(airport_csv.head())\n",
    "\n",
    "airport_csv.info()\n",
    "\n",
    "airport_csv.isna().sum()\n",
    "\n",
    "airport_csv.columns = [x.replace(' ', '_').lower() for x in airport_csv.columns]\n",
    "airport_csv['date'] = pd.to_datetime(airport_csv['date'])\n",
    "\n",
    "#read csv file of weather airport data, and basic cleaning up of spaces, changing data types etc\n",
    "\n",
    "#All PGTM and TSUN values null, so remove the columns\n",
    "airport_csv_filtered = airport_csv.dropna(axis=1, how='all')\n",
    "\n",
    "#dropping station and name as all data has come from the same station with the same name\n",
    "airport_csv.drop(['station', 'name', 'pgtm', 'tsun', 'wdf2', 'wdf5', 'wsf2', 'wsf5'], axis=1, inplace=True)"
   ]
  },
  {
   "cell_type": "code",
   "execution_count": null,
   "metadata": {},
   "outputs": [],
   "source": [
    "airport_csv.dtypes"
   ]
  },
  {
   "cell_type": "code",
   "execution_count": null,
   "metadata": {},
   "outputs": [],
   "source": [
    "#add new columns for better analysis\n",
    "airport_csv['rain'] = airport_csv['prcp'].apply(lambda x: 1 if x > 0 else 0).astype(bool)\n",
    "airport_csv['snow_amt'] = airport_csv['snow'].apply(lambda x: 1 if x > 0 else 0).astype(bool)"
   ]
  },
  {
   "cell_type": "code",
   "execution_count": null,
   "metadata": {},
   "outputs": [],
   "source": [
    "print(combined_bike_df.columns)\n",
    "print(airport_csv.columns)"
   ]
  },
  {
   "cell_type": "code",
   "execution_count": null,
   "metadata": {},
   "outputs": [],
   "source": []
  }
 ],
 "metadata": {
  "kernelspec": {
   "display_name": "Python 3",
   "language": "python",
   "name": "python3"
  },
  "language_info": {
   "codemirror_mode": {
    "name": "ipython",
    "version": 3
   },
   "file_extension": ".py",
   "mimetype": "text/x-python",
   "name": "python",
   "nbconvert_exporter": "python",
   "pygments_lexer": "ipython3",
   "version": "3.11.4"
  }
 },
 "nbformat": 4,
 "nbformat_minor": 2
}
