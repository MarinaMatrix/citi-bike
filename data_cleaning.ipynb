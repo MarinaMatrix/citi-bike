{
 "cells": [
  {
   "cell_type": "code",
   "execution_count": 2,
   "metadata": {},
   "outputs": [
    {
     "name": "stdout",
     "output_type": "stream",
     "text": [
      "   Trip Duration           Start Time            Stop Time  Start Station ID  \\\n",
      "0            361  2016-02-01 00:31:18  2016-02-01 00:37:19              3202   \n",
      "1            297  2016-02-01 01:55:05  2016-02-01 02:00:02              3195   \n",
      "2           1155  2016-02-01 02:40:05  2016-02-01 02:59:20              3183   \n",
      "3           1769  2016-02-01 05:11:28  2016-02-01 05:40:58              3214   \n",
      "4            935  2016-02-01 05:48:24  2016-02-01 06:03:59              3203   \n",
      "\n",
      "  Start Station Name  Start Station Latitude  Start Station Longitude  \\\n",
      "0       Newport PATH               40.727224               -74.033759   \n",
      "1            Sip Ave               40.730743               -74.063784   \n",
      "2     Exchange Place               40.716247               -74.033459   \n",
      "3   Essex Light Rail               40.712774               -74.036486   \n",
      "4      Hamilton Park               40.727596               -74.044247   \n",
      "\n",
      "   End Station ID  End Station Name  End Station Latitude  \\\n",
      "0            3203     Hamilton Park             40.727596   \n",
      "1            3194   McGinley Square             40.725340   \n",
      "2            3210    Pershing Field             40.742677   \n",
      "3            3203     Hamilton Park             40.727596   \n",
      "4            3214  Essex Light Rail             40.712774   \n",
      "\n",
      "   End Station Longitude  Bike ID   User Type  Birth Year  Gender  \n",
      "0             -74.044247    24393  Subscriber      1975.0       1  \n",
      "1             -74.067622    24394  Subscriber      1985.0       2  \n",
      "2             -74.051789    24676  Subscriber      1976.0       1  \n",
      "3             -74.044247    24700  Subscriber      1974.0       2  \n",
      "4             -74.036486    24639  Subscriber      1974.0       2  \n",
      "<class 'pandas.core.frame.DataFrame'>\n",
      "RangeIndex: 247584 entries, 0 to 247583\n",
      "Data columns (total 15 columns):\n",
      " #   Column                   Non-Null Count   Dtype  \n",
      "---  ------                   --------------   -----  \n",
      " 0   Trip Duration            247584 non-null  int64  \n",
      " 1   Start Time               247584 non-null  object \n",
      " 2   Stop Time                247584 non-null  object \n",
      " 3   Start Station ID         247584 non-null  int64  \n",
      " 4   Start Station Name       247584 non-null  object \n",
      " 5   Start Station Latitude   247584 non-null  float64\n",
      " 6   Start Station Longitude  247584 non-null  float64\n",
      " 7   End Station ID           247584 non-null  int64  \n",
      " 8   End Station Name         247584 non-null  object \n",
      " 9   End Station Latitude     247584 non-null  float64\n",
      " 10  End Station Longitude    247584 non-null  float64\n",
      " 11  Bike ID                  247584 non-null  int64  \n",
      " 12  User Type                247204 non-null  object \n",
      " 13  Birth Year               228585 non-null  float64\n",
      " 14  Gender                   247584 non-null  int64  \n",
      "dtypes: float64(5), int64(5), object(5)\n",
      "memory usage: 28.3+ MB\n"
     ]
    },
    {
     "data": {
      "text/plain": [
       "Trip Duration                  0\n",
       "Start Time                     0\n",
       "Stop Time                      0\n",
       "Start Station ID               0\n",
       "Start Station Name             0\n",
       "Start Station Latitude         0\n",
       "Start Station Longitude        0\n",
       "End Station ID                 0\n",
       "End Station Name               0\n",
       "End Station Latitude           0\n",
       "End Station Longitude          0\n",
       "Bike ID                        0\n",
       "User Type                    380\n",
       "Birth Year                 18999\n",
       "Gender                         0\n",
       "dtype: int64"
      ]
     },
     "execution_count": 2,
     "metadata": {},
     "output_type": "execute_result"
    }
   ],
   "source": [
    "import pandas as pd\n",
    "import glob\n",
    "import datetime\n",
    "\n",
    "bike_csv_files = glob.glob('*citibike-tripdata.csv')\n",
    "bike_dfs = []\n",
    "for file in bike_csv_files:\n",
    "    df = pd.read_csv(file)\n",
    "    bike_dfs.append(df)\n",
    "\n",
    "combined_bike_df = pd.concat(bike_dfs, ignore_index=True)\n",
    "\n",
    "print(combined_bike_df.head())\n",
    "\n",
    "combined_bike_df.info()\n",
    "\n",
    "combined_bike_df.isna().sum()\n",
    "\n",
    "#combined csv files with same columns and get some basic info for analysis on the data\n"
   ]
  },
  {
   "cell_type": "code",
   "execution_count": 46,
   "metadata": {},
   "outputs": [],
   "source": [
    "combined_bike_df['start_time'] = pd.to_datetime(combined_bike_df['start_time'])\n",
    "\n",
    "combined_bike_df['stop_time'] = pd.to_datetime(combined_bike_df['stop_time'])\n",
    "\n",
    "combined_bike_df['birth_year'] = pd.to_datetime(combined_bike_df['birth_year'])\n",
    "\n",
    "combined_bike_df.columns = [x.replace(' ', '_').lower() for x in combined_bike_df.columns]\n",
    "\n",
    "#change data types where necessary to datetime "
   ]
  },
  {
   "cell_type": "code",
   "execution_count": 3,
   "metadata": {},
   "outputs": [
    {
     "name": "stdout",
     "output_type": "stream",
     "text": [
      "       STATION                                         NAME        DATE  \\\n",
      "0  USW00014734  NEWARK LIBERTY INTERNATIONAL AIRPORT, NJ US  2016-01-01   \n",
      "1  USW00014734  NEWARK LIBERTY INTERNATIONAL AIRPORT, NJ US  2016-01-02   \n",
      "2  USW00014734  NEWARK LIBERTY INTERNATIONAL AIRPORT, NJ US  2016-01-03   \n",
      "3  USW00014734  NEWARK LIBERTY INTERNATIONAL AIRPORT, NJ US  2016-01-04   \n",
      "4  USW00014734  NEWARK LIBERTY INTERNATIONAL AIRPORT, NJ US  2016-01-05   \n",
      "\n",
      "    AWND  PGTM  PRCP  SNOW  SNWD  TAVG  TMAX  TMIN  TSUN  WDF2   WDF5  WSF2  \\\n",
      "0  12.75   NaN   0.0   0.0   0.0    41    43    34   NaN   270  280.0  25.9   \n",
      "1   9.40   NaN   0.0   0.0   0.0    36    42    30   NaN   260  260.0  21.0   \n",
      "2  10.29   NaN   0.0   0.0   0.0    37    47    28   NaN   270  250.0  23.9   \n",
      "3  17.22   NaN   0.0   0.0   0.0    32    35    14   NaN   330  330.0  25.9   \n",
      "4   9.84   NaN   0.0   0.0   0.0    19    31    10   NaN   360  350.0  25.1   \n",
      "\n",
      "   WSF5  \n",
      "0  35.1  \n",
      "1  25.1  \n",
      "2  30.0  \n",
      "3  33.1  \n",
      "4  31.1  \n",
      "<class 'pandas.core.frame.DataFrame'>\n",
      "RangeIndex: 366 entries, 0 to 365\n",
      "Data columns (total 16 columns):\n",
      " #   Column   Non-Null Count  Dtype  \n",
      "---  ------   --------------  -----  \n",
      " 0   STATION  366 non-null    object \n",
      " 1   NAME     366 non-null    object \n",
      " 2   DATE     366 non-null    object \n",
      " 3   AWND     366 non-null    float64\n",
      " 4   PGTM     0 non-null      float64\n",
      " 5   PRCP     366 non-null    float64\n",
      " 6   SNOW     366 non-null    float64\n",
      " 7   SNWD     366 non-null    float64\n",
      " 8   TAVG     366 non-null    int64  \n",
      " 9   TMAX     366 non-null    int64  \n",
      " 10  TMIN     366 non-null    int64  \n",
      " 11  TSUN     0 non-null      float64\n",
      " 12  WDF2     366 non-null    int64  \n",
      " 13  WDF5     364 non-null    float64\n",
      " 14  WSF2     366 non-null    float64\n",
      " 15  WSF5     364 non-null    float64\n",
      "dtypes: float64(9), int64(4), object(3)\n",
      "memory usage: 45.9+ KB\n"
     ]
    }
   ],
   "source": [
    "airport_csv = pd.read_csv('newark_airport_2016.csv')\n",
    "print(airport_csv.head())\n",
    "\n",
    "airport_csv.info()\n",
    "\n",
    "airport_csv.isna().sum()\n",
    "\n",
    "airport_csv.columns = [x.replace(' ', '_').lower() for x in airport_csv.columns]\n",
    "airport_csv['date'] = pd.to_datetime(airport_csv['date'])\n",
    "\n",
    "#read csv file of weather airport data, and basic cleaning up of spaces, changing data types etc\n",
    "\n",
    "#All PGTM and TSUN values null, so remove the columns\n",
    "airport_csv_filtered = airport_csv.dropna(axis=1, how='all')\n",
    "\n",
    "#dropping station and name as all data has come from the same station with the same name\n",
    "airport_csv.drop(['station', 'name', 'pgtm', 'tsun', 'wdf2', 'wdf5', 'wsf2', 'wsf5'], axis=1, inplace=True)"
   ]
  },
  {
   "cell_type": "code",
   "execution_count": 101,
   "metadata": {},
   "outputs": [
    {
     "data": {
      "text/plain": [
       "rec_date      datetime64[ns]\n",
       "avg_wind             float64\n",
       "prcp                 float64\n",
       "snow_amt             float64\n",
       "snow_depth           float64\n",
       "tavg                   int64\n",
       "tmax                   int64\n",
       "tmin                   int64\n",
       "rain                    bool\n",
       "snow                    bool\n",
       "dtype: object"
      ]
     },
     "execution_count": 101,
     "metadata": {},
     "output_type": "execute_result"
    }
   ],
   "source": [
    "airport_csv.dtypes"
   ]
  },
  {
   "cell_type": "code",
   "execution_count": 99,
   "metadata": {},
   "outputs": [
    {
     "name": "stdout",
     "output_type": "stream",
     "text": [
      "Index(['rec_date', 'avg_wind', 'prcp', 'snow_amt', 'snow_depth', 'tavg',\n",
      "       'tmax', 'tmin', 'rain', 'snow'],\n",
      "      dtype='object')\n"
     ]
    }
   ],
   "source": [
    "#add new columns for better analysis\n",
    "airport_csv['rain'] = airport_csv['prcp'].apply(lambda x: 1 if x > 0 else 0).astype(bool)\n",
    "airport_csv['snow'] = airport_csv['snow_amt'].apply(lambda x: 1 if x > 0 else 0).astype(bool)"
   ]
  },
  {
   "cell_type": "code",
   "execution_count": 100,
   "metadata": {},
   "outputs": [
    {
     "name": "stdout",
     "output_type": "stream",
     "text": [
      "Index(['trip_duration', 'start_time', 'stop_time', 'start_station_id',\n",
      "       'start_station_name', 'start_station_latitude',\n",
      "       'start_station_longitude', 'end_station_id', 'end_station_name',\n",
      "       'end_station_latitude', 'end_station_longitude', 'bike_id', 'user_type',\n",
      "       'birth_year', 'gender', 'valid_duration'],\n",
      "      dtype='object')\n",
      "Index(['rec_date', 'avg_wind', 'prcp', 'snow_amt', 'snow_depth', 'tavg',\n",
      "       'tmax', 'tmin', 'rain', 'snow'],\n",
      "      dtype='object')\n"
     ]
    }
   ],
   "source": [
    "print(combined_bike_df.columns)\n",
    "print(airport_csv.columns)"
   ]
  }
 ],
 "metadata": {
  "kernelspec": {
   "display_name": "Python 3",
   "language": "python",
   "name": "python3"
  },
  "language_info": {
   "codemirror_mode": {
    "name": "ipython",
    "version": 3
   },
   "file_extension": ".py",
   "mimetype": "text/x-python",
   "name": "python",
   "nbconvert_exporter": "python",
   "pygments_lexer": "ipython3",
   "version": "3.12.1"
  }
 },
 "nbformat": 4,
 "nbformat_minor": 2
}
